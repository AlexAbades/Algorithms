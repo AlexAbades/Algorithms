{
 "cells": [
  {
   "cell_type": "code",
   "execution_count": 34,
   "metadata": {},
   "outputs": [],
   "source": [
    "operations = []\n",
    "with open('numbers.txt', 'r') as f:\n",
    "    for line in f:\n",
    "        operations.append([int(x) for x in line.split()])\n",
    "\n",
    "N, M, a, b = 406, 426, 19, 257"
   ]
  },
  {
   "cell_type": "code",
   "execution_count": 38,
   "metadata": {},
   "outputs": [
    {
     "name": "stdout",
     "output_type": "stream",
     "text": [
      "YES\n"
     ]
    }
   ],
   "source": [
    "from collections import deque\n",
    "\n",
    "def addEdge(v, w):\n",
    "    global adj\n",
    "    adj[v].append(w)\n",
    "    adj[w].append(v)\n",
    " \n",
    "# A BFS based function to check whether d is reachable from s.\n",
    "def isReachable(s, d):\n",
    "     \n",
    "    # Base case\n",
    "    if (s == d):\n",
    "        return True\n",
    " \n",
    "    # Mark all the vertices as not visited\n",
    "    visited = [False for i in range(V)]\n",
    " \n",
    "    # Create a queue for BFS\n",
    "    queue = deque()\n",
    " \n",
    "    # Mark the current node as visited and enqueue it\n",
    "    visited[s] = True\n",
    "    queue.append(s)\n",
    " \n",
    "    while (len(queue) > 0):\n",
    "       \n",
    "        # Dequeue a vertex from queue and print\n",
    "        s = queue.popleft()\n",
    "        # queue.pop_front()\n",
    " \n",
    "        # Get all adjacent vertices of the dequeued vertex s\n",
    "        # If a adjacent has not been visited, then mark it\n",
    "        # visited  and enqueue it\n",
    "        for i in adj[s]:\n",
    " \n",
    "            # If this adjacent node is the destination node,\n",
    "            # then return true\n",
    "            if (i == d):\n",
    "                return True\n",
    " \n",
    "            # Else, continue to do BFS\n",
    "            if (not visited[i]):\n",
    "                visited[i] = True\n",
    "                queue.append(i)\n",
    "    # If BFS is complete without visiting d\n",
    "    return False\n",
    "\n",
    "\n",
    "V = N\n",
    "adj = [[] for i in range(V+1)]\n",
    "\n",
    "for i, j in operations:\n",
    "    addEdge(i, j)\n",
    "\n",
    "\n",
    "if isReachable(a, b):\n",
    "    print(\"YES\")\n",
    "else:\n",
    "    print(\"False\")"
   ]
  },
  {
   "cell_type": "code",
   "execution_count": null,
   "metadata": {},
   "outputs": [],
   "source": []
  },
  {
   "cell_type": "markdown",
   "metadata": {},
   "source": [
    "Alan and Christa are new students at DTU. Due to all the construction they find it very difficult to find their way from one building to another between classes. Sometimes they even doubt that there is a way from the building they are in to the building where there next class takes place.\n",
    "\n",
    "Help Alan and Christa by writing a program that computes wether there it is possible to get from building a to b.\n",
    "\n",
    "Line 1: Four integers N, M, a, and b, seperated by spaces, where N is the number of buildings, M is the number of paths between buildings, a is the building they start in, and b is the building they want to reach. Here 1 ≤ N, M, a, b ≤ 1000000\n",
    "\n",
    "Line 2..N+1: Two integers u and v meaning there is a path between building u and building v.\n",
    "\n",
    "Output format\n",
    "Line 1: YES if you can reach building b from building a by following paths. NO otherwise.\n",
    "\n",
    "Example\n",
    "Let n=4 and m=3. Let a=1 and b=2, and there are paths between building 1 and 3, between 2 and 4 and between 3 and 4. Then the answer is YES as they can follow the path 1 -> 3 -> 4 -> 2."
   ]
  },
  {
   "cell_type": "code",
   "execution_count": null,
   "metadata": {},
   "outputs": [],
   "source": []
  },
  {
   "cell_type": "code",
   "execution_count": null,
   "metadata": {},
   "outputs": [],
   "source": [
    "from collections import defaultdict\n",
    "\n",
    "# read input values\n",
    "n, m, a, b = map(int, input().split())\n",
    "\n",
    "# initialize adjacency list\n",
    "graph = defaultdict(list)\n",
    "\n",
    "# read edges and construct the graph\n",
    "for i in range(m):\n",
    "    u, v = map(int, input().split())\n",
    "    graph[u].append(v)\n",
    "    graph[v].append(u)\n",
    "\n",
    "# breadth-first search function to check if b is reachable from a\n",
    "def bfs(start, end):\n",
    "    visited = set()\n",
    "    queue = [start]\n",
    "    while queue:\n",
    "        node = queue.pop(0)\n",
    "        if node == end:\n",
    "            return True\n",
    "        visited.add(node)\n",
    "        for neighbor in graph[node]:\n",
    "            if neighbor not in visited:\n",
    "                queue.append(neighbor)\n",
    "    return False\n",
    "\n",
    "# check if b is reachable from a\n",
    "if bfs(a, b):\n",
    "    print(\"YES\")\n",
    "else:\n",
    "    print(\"NO\")\n"
   ]
  },
  {
   "cell_type": "code",
   "execution_count": null,
   "metadata": {},
   "outputs": [],
   "source": []
  },
  {
   "cell_type": "code",
   "execution_count": null,
   "metadata": {},
   "outputs": [],
   "source": []
  },
  {
   "cell_type": "code",
   "execution_count": null,
   "metadata": {},
   "outputs": [],
   "source": []
  },
  {
   "cell_type": "code",
   "execution_count": 31,
   "metadata": {},
   "outputs": [],
   "source": [
    "import numpy as np \n",
    "import sys \n",
    "sys.setrecursionlimit(10000)"
   ]
  },
  {
   "cell_type": "code",
   "execution_count": 32,
   "metadata": {},
   "outputs": [],
   "source": [
    "class Undirected_Graph_Matrix():\n",
    "\n",
    "    def __init__(self, V):\n",
    "         \n",
    "        self.V = V\n",
    "        \n",
    "        self.g = [[0 for j in range(self.V + 1)]\n",
    "                     for i in range(self.V + 1)]\n",
    "    \n",
    "        for i in range(self.V + 1):\n",
    "            self.g[i][i] = 1\n",
    " \n",
    "    def addEdge(self, v, w):\n",
    " \n",
    "        self.g[v][w] = 1\n",
    "        self.g[w][v] = 1\n",
    "        \n",
    "\n",
    "    def computePaths(self):\n",
    "        for k in range(1, self.V + 1):\n",
    " \n",
    "            for i in range(1, self.V + 1):\n",
    "                for j in range(1, self.V + 1):\n",
    "                    self.g[i][j] = (self.g[i][j] | (self.g[i][k] and self.g[k][j]))\n",
    "    def isReachable(self, s, d):\n",
    " \n",
    "        if (self.g[s][d] == 1):\n",
    "            return \"YES\"\n",
    "        else:\n",
    "            return \"NO\"\n",
    "\n",
    "    def display(self):\n",
    "        print(self.matrix)"
   ]
  },
  {
   "cell_type": "code",
   "execution_count": 33,
   "metadata": {},
   "outputs": [
    {
     "name": "stdout",
     "output_type": "stream",
     "text": [
      "YES\n"
     ]
    }
   ],
   "source": [
    "G = Undirected_Graph_Matrix(M)\n",
    "\n",
    "for a, b in operations:\n",
    "    G.addEdge(a,b)\n",
    "\n",
    "\n",
    "\n",
    "print(G.isReachable(a,b))"
   ]
  }
 ],
 "metadata": {
  "interpreter": {
   "hash": "b3ba2566441a7c06988d0923437866b63cedc61552a5af99d1f4fb67d367b25f"
  },
  "kernelspec": {
   "display_name": "Python 3.7.4 64-bit ('base': conda)",
   "language": "python",
   "name": "python3"
  },
  "language_info": {
   "codemirror_mode": {
    "name": "ipython",
    "version": 3
   },
   "file_extension": ".py",
   "mimetype": "text/x-python",
   "name": "python",
   "nbconvert_exporter": "python",
   "pygments_lexer": "ipython3",
   "version": "3.7.4"
  },
  "orig_nbformat": 4
 },
 "nbformat": 4,
 "nbformat_minor": 2
}
